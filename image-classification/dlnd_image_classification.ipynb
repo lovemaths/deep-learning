{
 "cells": [
  {
   "cell_type": "markdown",
   "metadata": {
    "collapsed": true
   },
   "source": [
    "# Image Classification\n",
    "In this project, you'll classify images from the [CIFAR-10 dataset](https://www.cs.toronto.edu/~kriz/cifar.html).  The dataset consists of airplanes, dogs, cats, and other objects. You'll preprocess the images, then train a convolutional neural network on all the samples. The images need to be normalized and the labels need to be one-hot encoded.  You'll get to apply what you learned and build a convolutional, max pooling, dropout, and fully connected layers.  At the end, you'll get to see your neural network's predictions on the sample images.\n",
    "## Get the Data\n",
    "Run the following cell to download the [CIFAR-10 dataset for python](https://www.cs.toronto.edu/~kriz/cifar-10-python.tar.gz)."
   ]
  },
  {
   "cell_type": "code",
   "execution_count": 1,
   "metadata": {},
   "outputs": [
    {
     "name": "stdout",
     "output_type": "stream",
     "text": [
      "All files found!\n"
     ]
    }
   ],
   "source": [
    "\"\"\"\n",
    "DON'T MODIFY ANYTHING IN THIS CELL THAT IS BELOW THIS LINE\n",
    "\"\"\"\n",
    "from urllib.request import urlretrieve\n",
    "from os.path import isfile, isdir\n",
    "from tqdm import tqdm\n",
    "import problem_unittests as tests\n",
    "import tarfile\n",
    "\n",
    "cifar10_dataset_folder_path = 'cifar-10-batches-py'\n",
    "\n",
    "class DLProgress(tqdm):\n",
    "    last_block = 0\n",
    "\n",
    "    def hook(self, block_num=1, block_size=1, total_size=None):\n",
    "        self.total = total_size\n",
    "        self.update((block_num - self.last_block) * block_size)\n",
    "        self.last_block = block_num\n",
    "\n",
    "if not isfile('cifar-10-python.tar.gz'):\n",
    "    with DLProgress(unit='B', unit_scale=True, miniters=1, desc='CIFAR-10 Dataset') as pbar:\n",
    "        urlretrieve(\n",
    "            'https://www.cs.toronto.edu/~kriz/cifar-10-python.tar.gz',\n",
    "            'cifar-10-python.tar.gz',\n",
    "            pbar.hook)\n",
    "\n",
    "if not isdir(cifar10_dataset_folder_path):\n",
    "    with tarfile.open('cifar-10-python.tar.gz') as tar:\n",
    "        tar.extractall()\n",
    "        tar.close()\n",
    "\n",
    "\n",
    "tests.test_folder_path(cifar10_dataset_folder_path)"
   ]
  },
  {
   "cell_type": "markdown",
   "metadata": {},
   "source": [
    "## Explore the Data\n",
    "The dataset is broken into batches to prevent your machine from running out of memory.  The CIFAR-10 dataset consists of 5 batches, named `data_batch_1`, `data_batch_2`, etc.. Each batch contains the labels and images that are one of the following:\n",
    "* airplane\n",
    "* automobile\n",
    "* bird\n",
    "* cat\n",
    "* deer\n",
    "* dog\n",
    "* frog\n",
    "* horse\n",
    "* ship\n",
    "* truck\n",
    "\n",
    "Understanding a dataset is part of making predictions on the data.  Play around with the code cell below by changing the `batch_id` and `sample_id`. The `batch_id` is the id for a batch (1-5). The `sample_id` is the id for a image and label pair in the batch.\n",
    "\n",
    "Ask yourself \"What are all possible labels?\", \"What is the range of values for the image data?\", \"Are the labels in order or random?\".  Answers to questions like these will help you preprocess the data and end up with better predictions."
   ]
  },
  {
   "cell_type": "code",
   "execution_count": 3,
   "metadata": {},
   "outputs": [
    {
     "name": "stdout",
     "output_type": "stream",
     "text": [
      "\n",
      "Stats of batch 3:\n",
      "Samples: 10000\n",
      "Label Counts: {0: 994, 1: 1042, 2: 965, 3: 997, 4: 990, 5: 1029, 6: 978, 7: 1015, 8: 961, 9: 1029}\n",
      "First 20 Labels: [8, 5, 0, 6, 9, 2, 8, 3, 6, 2, 7, 4, 6, 9, 0, 0, 7, 3, 7, 2]\n",
      "\n",
      "Example of Image 1:\n",
      "Image - Min Value: 15 Max Value: 249\n",
      "Image - Shape: (32, 32, 3)\n",
      "Label - Label Id: 5 Name: dog\n"
     ]
    },
    {
     "data": {
      "image/png": "[encoded data removed]",
      "text/plain": [
       "<matplotlib.figure.Figure at 0x23711865240>"
      ]
     },
     "metadata": {
      "image/png": {
       "height": 250,
       "width": 253
      }
     },
     "output_type": "display_data"
    }
   ],
   "source": [
    "%matplotlib inline\n",
    "%config InlineBackend.figure_format = 'retina'\n",
    "\n",
    "import helper\n",
    "import numpy as np\n",
    "\n",
    "# Explore the dataset\n",
    "batch_id = 3\n",
    "sample_id = 1\n",
    "helper.display_stats(cifar10_dataset_folder_path, batch_id, sample_id)"
   ]
  },
  {
   "cell_type": "markdown",
   "metadata": {},
   "source": [
    "## Implement Preprocess Functions\n",
    "### Normalize\n",
    "In the cell below, implement the `normalize` function to take in image data, `x`, and return it as a normalized Numpy array. The values should be in the range of 0 to 1, inclusive.  The return object should be the same shape as `x`."
   ]
  },
  {
   "cell_type": "code",
   "execution_count": 4,
   "metadata": {},
   "outputs": [
    {
     "name": "stdout",
     "output_type": "stream",
     "text": [
      "Tests Passed\n"
     ]
    }
   ],
   "source": [
    "def normalize(x):\n",
    "    \"\"\"\n",
    "    Normalize a list of sample image data in the range of 0 to 1\n",
    "    : x: List of image data.  The image shape is (32, 32, 3)\n",
    "    : return: Numpy array of normalize data\n",
    "    \"\"\"\n",
    "    \"\"\"\n",
    "    The normalize formula: return ((new_Max - new_Min) * (image_data - new_Min) / (old_Max - old_Min)) + new_Min\n",
    "    Which can be simplified like so: return ((1.0 - 0.0) * (image_data - 0.0) / (255.0 - 0.0)) + 0.0\n",
    "    Which can be simplified like so: return (1.0 * image_data / 255.0) + 0.0\n",
    "    Which can be simplified like so: return (image_data / 255.0)\n",
    "    \"\"\"\n",
    "    return (x / 255.0)\n",
    "\n",
    "\n",
    "\"\"\"\n",
    "DON'T MODIFY ANYTHING IN THIS CELL THAT IS BELOW THIS LINE\n",
    "\"\"\"\n",
    "tests.test_normalize(normalize)"
   ]
  },
  {
   "cell_type": "markdown",
   "metadata": {},
   "source": [
    "### One-hot encode\n",
    "Just like the previous code cell, you'll be implementing a function for preprocessing.  This time, you'll implement the `one_hot_encode` function. The input, `x`, are a list of labels.  Implement the function to return the list of labels as One-Hot encoded Numpy array.  The possible values for labels are 0 to 9. The one-hot encoding function should return the same encoding for each value between each call to `one_hot_encode`.  Make sure to save the map of encodings outside the function.\n",
    "\n",
    "Hint: Don't reinvent the wheel."
   ]
  },
  {
   "cell_type": "code",
   "execution_count": 5,
   "metadata": {},
   "outputs": [
    {
     "name": "stdout",
     "output_type": "stream",
     "text": [
      "Tests Passed\n"
     ]
    }
   ],
   "source": [
    "def one_hot_encode(x):\n",
    "    \"\"\"\n",
    "    One hot encode a list of sample labels. Return a one-hot encoded vector for each label.\n",
    "    : x: List of sample Labels\n",
    "    : return: Numpy array of one-hot encoded labels\n",
    "    \"\"\"\n",
    "    return np.eye(10)[x]\n",
    "\n",
    "\n",
    "\"\"\"\n",
    "DON'T MODIFY ANYTHING IN THIS CELL THAT IS BELOW THIS LINE\n",
    "\"\"\"\n",
    "tests.test_one_hot_encode(one_hot_encode)"
   ]
  },
  {
   "cell_type": "markdown",
   "metadata": {},
   "source": [
    "### Randomize Data\n",
    "As you saw from exploring the data above, the order of the samples are randomized.  It doesn't hurt to randomize it again, but you don't need to for this dataset."
   ]
  },
  {
   "cell_type": "markdown",
   "metadata": {},
   "source": [
    "## Preprocess all the data and save it\n",
    "Running the code cell below will preprocess all the CIFAR-10 data and save it to file. The code below also uses 10% of the training data for validation."
   ]
  },
  {
   "cell_type": "code",
   "execution_count": 6,
   "metadata": {},
   "outputs": [],
   "source": [
    "\"\"\"\n",
    "DON'T MODIFY ANYTHING IN THIS CELL\n",
    "\"\"\"\n",
    "# Preprocess Training, Validation, and Testing Data\n",
    "helper.preprocess_and_save_data(cifar10_dataset_folder_path, normalize, one_hot_encode)"
   ]
  },
  {
   "cell_type": "markdown",
   "metadata": {},
   "source": [
    "# Check Point\n",
    "This is your first checkpoint.  If you ever decide to come back to this notebook or have to restart the notebook, you can start from here.  The preprocessed data has been saved to disk."
   ]
  },
  {
   "cell_type": "code",
   "execution_count": 7,
   "metadata": {
    "collapsed": true
   },
   "outputs": [],
   "source": [
    "\"\"\"\n",
    "DON'T MODIFY ANYTHING IN THIS CELL\n",
    "\"\"\"\n",
    "import pickle\n",
    "import problem_unittests as tests\n",
    "import helper\n",
    "\n",
    "# Load the Preprocessed Validation data\n",
    "valid_features, valid_labels = pickle.load(open('preprocess_validation.p', mode='rb'))"
   ]
  },
  {
   "cell_type": "markdown",
   "metadata": {},
   "source": [
    "## Build the network\n",
    "For the neural network, you'll build each layer into a function.  Most of the code you've seen has been outside of functions. To test your code more thoroughly, we require that you put each layer in a function.  This allows us to give you better feedback and test for simple mistakes using our unittests before you submit your project.\n",
    "\n",
    "If you're finding it hard to dedicate enough time for this course a week, we've provided a small shortcut to this part of the project. In the next couple of problems, you'll have the option to use [TensorFlow Layers](https://www.tensorflow.org/api_docs/python/tf/layers) or [TensorFlow Layers (contrib)](https://www.tensorflow.org/api_guides/python/contrib.layers) to build each layer, except \"Convolutional & Max Pooling\" layer.  TF Layers is similar to Keras's and TFLearn's abstraction to layers, so it's easy to pickup.\n",
    "\n",
    "If you would like to get the most of this course, try to solve all the problems without TF Layers.  Let's begin!\n",
    "### Input\n",
    "The neural network needs to read the image data, one-hot encoded labels, and dropout keep probability. Implement the following functions\n",
    "* Implement `neural_net_image_input`\n",
    " * Return a [TF Placeholder](https://www.tensorflow.org/api_docs/python/tf/placeholder)\n",
    " * Set the shape using `image_shape` with batch size set to `None`.\n",
    " * Name the TensorFlow placeholder \"x\" using the TensorFlow `name` parameter in the [TF Placeholder](https://www.tensorflow.org/api_docs/python/tf/placeholder).\n",
    "* Implement `neural_net_label_input`\n",
    " * Return a [TF Placeholder](https://www.tensorflow.org/api_docs/python/tf/placeholder)\n",
    " * Set the shape using `n_classes` with batch size set to `None`.\n",
    " * Name the TensorFlow placeholder \"y\" using the TensorFlow `name` parameter in the [TF Placeholder](https://www.tensorflow.org/api_docs/python/tf/placeholder).\n",
    "* Implement `neural_net_keep_prob_input`\n",
    " * Return a [TF Placeholder](https://www.tensorflow.org/api_docs/python/tf/placeholder) for dropout keep probability.\n",
    " * Name the TensorFlow placeholder \"keep_prob\" using the TensorFlow `name` parameter in the [TF Placeholder](https://www.tensorflow.org/api_docs/python/tf/placeholder).\n",
    "\n",
    "These names will be used at the end of the project to load your saved model.\n",
    "\n",
    "Note: `None` for shapes in TensorFlow allow for a dynamic size."
   ]
  },
  {
   "cell_type": "code",
   "execution_count": 8,
   "metadata": {},
   "outputs": [
    {
     "name": "stdout",
     "output_type": "stream",
     "text": [
      "Image Input Tests Passed.\n",
      "Label Input Tests Passed.\n",
      "Keep Prob Tests Passed.\n"
     ]
    }
   ],
   "source": [
    "import tensorflow as tf\n",
    "\n",
    "def neural_net_image_input(image_shape):\n",
    "    \"\"\"\n",
    "    Return a Tensor for a bach of image input\n",
    "    : image_shape: Shape of the images\n",
    "    : return: Tensor for image input.\n",
    "    \"\"\"\n",
    "    return tf.placeholder(dtype=tf.float32, shape=[None, image_shape[0], image_shape[1], image_shape[2]], name=\"x\")\n",
    "\n",
    "\n",
    "def neural_net_label_input(n_classes):\n",
    "    \"\"\"\n",
    "    Return a Tensor for a batch of label input\n",
    "    : n_classes: Number of classes\n",
    "    : return: Tensor for label input.\n",
    "    \"\"\"\n",
    "    return tf.placeholder(dtype=tf.float32, shape=[None, n_classes], name=\"y\")\n",
    "\n",
    "\n",
    "def neural_net_keep_prob_input():\n",
    "    \"\"\"\n",
    "    Return a Tensor for keep probability\n",
    "    : return: Tensor for keep probability.\n",
    "    \"\"\"\n",
    "    return tf.placeholder(dtype=tf.float32, name=\"keep_prob\")\n",
    "\n",
    "\n",
    "\"\"\"\n",
    "DON'T MODIFY ANYTHING IN THIS CELL THAT IS BELOW THIS LINE\n",
    "\"\"\"\n",
    "tf.reset_default_graph()\n",
    "tests.test_nn_image_inputs(neural_net_image_input)\n",
    "tests.test_nn_label_inputs(neural_net_label_input)\n",
    "tests.test_nn_keep_prob_inputs(neural_net_keep_prob_input)"
   ]
  },
  {
   "cell_type": "markdown",
   "metadata": {},
   "source": [
    "### Convolution and Max Pooling Layer\n",
    "Convolution layers have a lot of success with images. For this code cell, you should implement the function `conv2d_maxpool` to apply convolution then max pooling:\n",
    "* Create the weight and bias using `conv_ksize`, `conv_num_outputs` and the shape of `x_tensor`.\n",
    "* Apply a convolution to `x_tensor` using weight and `conv_strides`.\n",
    " * We recommend you use same padding, but you're welcome to use any padding.\n",
    "* Add bias\n",
    "* Add a nonlinear activation to the convolution.\n",
    "* Apply Max Pooling using `pool_ksize` and `pool_strides`.\n",
    " * We recommend you use same padding, but you're welcome to use any padding.\n",
    "\n",
    "Note: You **can't** use [TensorFlow Layers](https://www.tensorflow.org/api_docs/python/tf/layers) or [TensorFlow Layers (contrib)](https://www.tensorflow.org/api_guides/python/contrib.layers) for this layer.  You're free to use any TensorFlow package for all the other layers."
   ]
  },
  {
   "cell_type": "code",
   "execution_count": 9,
   "metadata": {},
   "outputs": [
    {
     "name": "stdout",
     "output_type": "stream",
     "text": [
      "Tests Passed\n"
     ]
    }
   ],
   "source": [
    "def conv2d_maxpool(x_tensor, conv_num_outputs, conv_ksize, conv_strides, pool_ksize, pool_strides):\n",
    "    \"\"\"\n",
    "    Apply convolution then max pooling to x_tensor\n",
    "    :param x_tensor: TensorFlow Tensor\n",
    "    :param conv_num_outputs: Number of outputs for the convolutional layer\n",
    "    :param conv_strides: Stride 2-D Tuple for convolution\n",
    "    :param pool_ksize: kernal size 2-D Tuple for pool\n",
    "    :param pool_strides: Stride 2-D Tuple for pool\n",
    "    : return: A tensor that represents convolution and max pooling of x_tensor\n",
    "    \"\"\"\n",
    "    \n",
    "    #Step 1: create the weights and bias\n",
    "    channels = x_tensor.shape[3].value\n",
    "    weights = tf.Variable(tf.truncated_normal([conv_ksize[0], conv_ksize[1], channels, conv_num_outputs], mean=0, stddev=0.1))\n",
    "    bias = tf.Variable(tf.zeros(conv_num_outputs))\n",
    "    \n",
    "    #Step 2: apply convolution\n",
    "    layer = tf.nn.conv2d(x_tensor, weights, strides=[1, conv_strides[0], conv_strides[1], 1], padding='SAME')\n",
    "    \n",
    "    #Step 3: add bias\n",
    "    layer = tf.nn.bias_add(layer, bias)\n",
    "    \n",
    "    #Step 4: add nonlinear activation\n",
    "    layer = tf.nn.relu(layer)\n",
    "                          \n",
    "    #Step 5: apply Max Pooling\n",
    "    layer = tf.nn.max_pool(layer, ksize=[1, pool_ksize[0], pool_ksize[1], 1], strides=[1, pool_strides[0], pool_strides[1], 1], padding='SAME')\n",
    "\n",
    "    return layer\n",
    "\n",
    "\n",
    "\"\"\"\n",
    "DON'T MODIFY ANYTHING IN THIS CELL THAT IS BELOW THIS LINE\n",
    "\"\"\"\n",
    "tests.test_con_pool(conv2d_maxpool)"
   ]
  },
  {
   "cell_type": "markdown",
   "metadata": {},
   "source": [
    "### Flatten Layer\n",
    "Implement the `flatten` function to change the dimension of `x_tensor` from a 4-D tensor to a 2-D tensor.  The output should be the shape (*Batch Size*, *Flattened Image Size*). You can use [TensorFlow Layers](https://www.tensorflow.org/api_docs/python/tf/layers) or [TensorFlow Layers (contrib)](https://www.tensorflow.org/api_guides/python/contrib.layers) for this layer."
   ]
  },
  {
   "cell_type": "code",
   "execution_count": 10,
   "metadata": {},
   "outputs": [
    {
     "name": "stdout",
     "output_type": "stream",
     "text": [
      "Tests Passed\n"
     ]
    }
   ],
   "source": [
    "def flatten(x_tensor):\n",
    "    \"\"\"\n",
    "    Flatten x_tensor to (Batch Size, Flattened Image Size)\n",
    "    : x_tensor: A tensor of size (Batch Size, ...), where ... are the image dimensions.\n",
    "    : return: A tensor of size (Batch Size, Flattened Image Size).\n",
    "    \"\"\"\n",
    "    return tf.contrib.layers.flatten(x_tensor)\n",
    "\n",
    "\n",
    "\"\"\"\n",
    "DON'T MODIFY ANYTHING IN THIS CELL THAT IS BELOW THIS LINE\n",
    "\"\"\"\n",
    "tests.test_flatten(flatten)"
   ]
  },
  {
   "cell_type": "markdown",
   "metadata": {},
   "source": [
    "### Fully-Connected Layer\n",
    "Implement the `fully_conn` function to apply a fully connected layer to `x_tensor` with the shape (*Batch Size*, *num_outputs*). You can use [TensorFlow Layers](https://www.tensorflow.org/api_docs/python/tf/layers) or [TensorFlow Layers (contrib)](https://www.tensorflow.org/api_guides/python/contrib.layers) for this layer."
   ]
  },
  {
   "cell_type": "code",
   "execution_count": 11,
   "metadata": {},
   "outputs": [
    {
     "name": "stdout",
     "output_type": "stream",
     "text": [
      "Tests Passed\n"
     ]
    }
   ],
   "source": [
    "def fully_conn(x_tensor, num_outputs):\n",
    "    \"\"\"\n",
    "    Apply a fully connected layer to x_tensor using weight and bias\n",
    "    : x_tensor: A 2-D tensor where the first dimension is batch size.\n",
    "    : num_outputs: The number of output that the new tensor should be.\n",
    "    : return: A 2-D tensor where the second dimension is num_outputs.\n",
    "    \"\"\"\n",
    "\n",
    "    #Step 1: create the weights and bias\n",
    "    weights = tf.Variable(tf.truncated_normal([x_tensor.shape[1].value, num_outputs], mean=0, stddev=0.1))\n",
    "    bias = tf.Variable(tf.zeros(num_outputs))\n",
    "\n",
    "    #Step 2: apply matmul\n",
    "    layer = tf.matmul(x_tensor, weights)\n",
    "\n",
    "    #Step 3: add bias\n",
    "    layer = tf.nn.bias_add(layer, bias)\n",
    "\n",
    "    #Step 4: apply relu\n",
    "    layer = tf.nn.relu(layer)\n",
    "   \n",
    "    return layer\n",
    "\n",
    "\n",
    "\"\"\"\n",
    "DON'T MODIFY ANYTHING IN THIS CELL THAT IS BELOW THIS LINE\n",
    "\"\"\"\n",
    "tests.test_fully_conn(fully_conn)"
   ]
  },
  {
   "cell_type": "markdown",
   "metadata": {},
   "source": [
    "### Output Layer\n",
    "Implement the `output` function to apply a fully connected layer to `x_tensor` with the shape (*Batch Size*, *num_outputs*). You can use [TensorFlow Layers](https://www.tensorflow.org/api_docs/python/tf/layers) or [TensorFlow Layers (contrib)](https://www.tensorflow.org/api_guides/python/contrib.layers) for this layer.\n",
    "\n",
    "Note: Activation, softmax, or cross entropy shouldn't be applied to this."
   ]
  },
  {
   "cell_type": "code",
   "execution_count": 12,
   "metadata": {},
   "outputs": [
    {
     "name": "stdout",
     "output_type": "stream",
     "text": [
      "Tests Passed\n"
     ]
    }
   ],
   "source": [
    "def output(x_tensor, num_outputs):\n",
    "    \"\"\"\n",
    "    Apply a output layer to x_tensor using weight and bias\n",
    "    : x_tensor: A 2-D tensor where the first dimension is batch size.\n",
    "    : num_outputs: The number of output that the new tensor should be.\n",
    "    : return: A 2-D tensor where the second dimension is num_outputs.\n",
    "    \"\"\"\n",
    "\n",
    "    #Step 1: create the weights and bias\n",
    "    weights = tf.Variable(tf.truncated_normal([x_tensor.shape[1].value, num_outputs], mean=0, stddev=0.1))\n",
    "    bias = tf.Variable(tf.zeros(num_outputs))\n",
    "\n",
    "    #Step 2: apply matmul\n",
    "    layer = tf.matmul(x_tensor, weights)\n",
    "\n",
    "    #Step 3: add bias\n",
    "    layer = tf.nn.bias_add(layer, bias)\n",
    "\n",
    "    return layer\n",
    "\n",
    "\n",
    "\"\"\"\n",
    "DON'T MODIFY ANYTHING IN THIS CELL THAT IS BELOW THIS LINE\n",
    "\"\"\"\n",
    "tests.test_output(output)"
   ]
  },
  {
   "cell_type": "markdown",
   "metadata": {},
   "source": [
    "### Create Convolutional Model\n",
    "Implement the function `conv_net` to create a convolutional neural network model. The function takes in a batch of images, `x`, and outputs logits.  Use the layers you created above to create this model:\n",
    "\n",
    "* Apply 1, 2, or 3 Convolution and Max Pool layers\n",
    "* Apply a Flatten Layer\n",
    "* Apply 1, 2, or 3 Fully Connected Layers\n",
    "* Apply an Output Layer\n",
    "* Return the output\n",
    "* Apply [TensorFlow's Dropout](https://www.tensorflow.org/api_docs/python/tf/nn/dropout) to one or more layers in the model using `keep_prob`. "
   ]
  },
  {
   "cell_type": "code",
   "execution_count": 13,
   "metadata": {},
   "outputs": [
    {
     "name": "stdout",
     "output_type": "stream",
     "text": [
      "Neural Network Built!\n"
     ]
    }
   ],
   "source": [
    "def conv_net(x, keep_prob):\n",
    "    \"\"\"\n",
    "    Create a convolutional neural network model\n",
    "    : x: Placeholder tensor that holds image data.\n",
    "    : keep_prob: Placeholder tensor that hold dropout keep probability.\n",
    "    : return: Tensor that represents logits\n",
    "    \"\"\"\n",
    "    # Apply the same filter and max pooling to each convolution layer\n",
    "    conv_ksize = [4, 4]\n",
    "    conv_strides = [1, 1]\n",
    "    pool_ksize = [2, 2]\n",
    "    pool_strides = [2, 2]\n",
    "\n",
    "    # TODO: Apply 1, 2, or 3 Convolution and Max Pool layers\n",
    "    #    Play around with different number of outputs, kernel size and stride\n",
    "    # Function Definition from Above:\n",
    "    #    conv2d_maxpool(x_tensor, conv_num_outputs, conv_ksize, conv_strides, pool_ksize, pool_strides)\n",
    "    conv_layer_1 = conv2d_maxpool(x, 16, conv_ksize, conv_strides, pool_ksize, pool_strides)\n",
    "    conv_layer_2 = conv2d_maxpool(conv_layer_1, 32, conv_ksize, conv_strides, pool_ksize, pool_strides)\n",
    "    conv_layer_3 = conv2d_maxpool(conv_layer_2, 64, conv_ksize, conv_strides, pool_ksize, pool_strides)\n",
    "    \n",
    "    # TODO: Apply a Flatten Layer\n",
    "    # Function Definition from Above:\n",
    "    #   flatten(x_tensor)\n",
    "    flat_layer = flatten(conv_layer_3)    \n",
    "\n",
    "    # TODO: Apply 1, 2, or 3 Fully Connected Layers\n",
    "    #    Play around with different number of outputs\n",
    "    # Function Definition from Above:\n",
    "    #   fully_conn(x_tensor, num_outputs)\n",
    "    fully_connected = fully_conn(flat_layer, 10)\n",
    "    fully_connected = tf.nn.dropout(fully_connected, keep_prob)\n",
    "\n",
    "    # TODO: Apply an Output Layer\n",
    "    #    Set this to the number of classes\n",
    "    # Function Definition from Above:\n",
    "    #   output(x_tensor, num_outputs)\n",
    "    output_layer = output(fully_connected, 10)\n",
    "    \n",
    "    # TODO: return output\n",
    "    return output_layer\n",
    "\n",
    "\n",
    "\"\"\"\n",
    "DON'T MODIFY ANYTHING IN THIS CELL THAT IS BELOW THIS LINE\n",
    "\"\"\"\n",
    "\n",
    "##############################\n",
    "## Build the Neural Network ##\n",
    "##############################\n",
    "\n",
    "# Remove previous weights, bias, inputs, etc..\n",
    "tf.reset_default_graph()\n",
    "\n",
    "# Inputs\n",
    "x = neural_net_image_input((32, 32, 3))\n",
    "y = neural_net_label_input(10)\n",
    "keep_prob = neural_net_keep_prob_input()\n",
    "\n",
    "# Model\n",
    "logits = conv_net(x, keep_prob)\n",
    "\n",
    "# Name logits Tensor, so that is can be loaded from disk after training\n",
    "logits = tf.identity(logits, name='logits')\n",
    "\n",
    "# Loss and Optimizer\n",
    "cost = tf.reduce_mean(tf.nn.softmax_cross_entropy_with_logits(logits=logits, labels=y))\n",
    "optimizer = tf.train.AdamOptimizer().minimize(cost)\n",
    "\n",
    "# Accuracy\n",
    "correct_pred = tf.equal(tf.argmax(logits, 1), tf.argmax(y, 1))\n",
    "accuracy = tf.reduce_mean(tf.cast(correct_pred, tf.float32), name='accuracy')\n",
    "\n",
    "tests.test_conv_net(conv_net)"
   ]
  },
  {
   "cell_type": "markdown",
   "metadata": {},
   "source": [
    "## Train the Neural Network\n",
    "### Single Optimization\n",
    "Implement the function `train_neural_network` to do a single optimization.  The optimization should use `optimizer` to optimize in `session` with a `feed_dict` of the following:\n",
    "* `x` for image input\n",
    "* `y` for labels\n",
    "* `keep_prob` for keep probability for dropout\n",
    "\n",
    "This function will be called for each batch, so `tf.global_variables_initializer()` has already been called.\n",
    "\n",
    "Note: Nothing needs to be returned. This function is only optimizing the neural network."
   ]
  },
  {
   "cell_type": "code",
   "execution_count": 14,
   "metadata": {},
   "outputs": [
    {
     "name": "stdout",
     "output_type": "stream",
     "text": [
      "Tests Passed\n"
     ]
    }
   ],
   "source": [
    "def train_neural_network(session, optimizer, keep_probability, feature_batch, label_batch):\n",
    "    \"\"\"\n",
    "    Optimize the session on a batch of images and labels\n",
    "    : session: Current TensorFlow session\n",
    "    : optimizer: TensorFlow optimizer function\n",
    "    : keep_probability: keep probability\n",
    "    : feature_batch: Batch of Numpy image data\n",
    "    : label_batch: Batch of Numpy label data\n",
    "    \"\"\"\n",
    "    session.run(optimizer, feed_dict={ x: feature_batch, y: label_batch, keep_prob: keep_probability})\n",
    "\n",
    "\n",
    "\"\"\"\n",
    "DON'T MODIFY ANYTHING IN THIS CELL THAT IS BELOW THIS LINE\n",
    "\"\"\"\n",
    "tests.test_train_nn(train_neural_network)"
   ]
  },
  {
   "cell_type": "markdown",
   "metadata": {},
   "source": [
    "### Show Stats\n",
    "Implement the function `print_stats` to print loss and validation accuracy.  Use the global variables `valid_features` and `valid_labels` to calculate validation accuracy.  Use a keep probability of `1.0` to calculate the loss and validation accuracy."
   ]
  },
  {
   "cell_type": "code",
   "execution_count": 15,
   "metadata": {},
   "outputs": [],
   "source": [
    "def print_stats(session, feature_batch, label_batch, cost, accuracy):\n",
    "    \"\"\"\n",
    "    Print information about loss and validation accuracy\n",
    "    : session: Current TensorFlow session\n",
    "    : feature_batch: Batch of Numpy image data\n",
    "    : label_batch: Batch of Numpy label data\n",
    "    : cost: TensorFlow cost function\n",
    "    : accuracy: TensorFlow accuracy function\n",
    "    \"\"\"\n",
    "    loss = session.run(cost, feed_dict={x: feature_batch, y: label_batch, keep_prob: 1.0})\n",
    "    val_accuracy = session.run(accuracy, feed_dict={x: valid_features, y: valid_labels, keep_prob: 1.})\n",
    "    print('Loss: {:>10.4f} Validation accuracy: {:.6f}'.format(loss, val_accuracy))"
   ]
  },
  {
   "cell_type": "markdown",
   "metadata": {},
   "source": [
    "### Hyperparameters\n",
    "Tune the following parameters:\n",
    "* Set `epochs` to the number of iterations until the network stops learning or start overfitting\n",
    "* Set `batch_size` to the highest number that your machine has memory for.  Most people set them to common sizes of memory:\n",
    " * 64\n",
    " * 128\n",
    " * 256\n",
    " * ...\n",
    "* Set `keep_probability` to the probability of keeping a node using dropout"
   ]
  },
  {
   "cell_type": "code",
   "execution_count": 16,
   "metadata": {
    "collapsed": true
   },
   "outputs": [],
   "source": [
    "# TODO: Tune Parameters\n",
    "epochs = 30\n",
    "batch_size = 128\n",
    "keep_probability = 0.7"
   ]
  },
  {
   "cell_type": "markdown",
   "metadata": {},
   "source": [
    "### Train on a Single CIFAR-10 Batch\n",
    "Instead of training the neural network on all the CIFAR-10 batches of data, let's use a single batch. This should save time while you iterate on the model to get a better accuracy.  Once the final validation accuracy is 50% or greater, run the model on all the data in the next section."
   ]
  },
  {
   "cell_type": "code",
   "execution_count": 17,
   "metadata": {},
   "outputs": [
    {
     "name": "stdout",
     "output_type": "stream",
     "text": [
      "Checking the Training on a Single Batch...\n",
      "Epoch  1, CIFAR-10 Batch 1:  Loss:     2.1581 Validation accuracy: 0.211000\n",
      "Epoch  2, CIFAR-10 Batch 1:  Loss:     1.9808 Validation accuracy: 0.349800\n",
      "Epoch  3, CIFAR-10 Batch 1:  Loss:     1.8972 Validation accuracy: 0.357200\n",
      "Epoch  4, CIFAR-10 Batch 1:  Loss:     1.8322 Validation accuracy: 0.379000\n",
      "Epoch  5, CIFAR-10 Batch 1:  Loss:     1.7958 Validation accuracy: 0.350000\n",
      "Epoch  6, CIFAR-10 Batch 1:  Loss:     1.7264 Validation accuracy: 0.370400\n",
      "Epoch  7, CIFAR-10 Batch 1:  Loss:     1.7426 Validation accuracy: 0.386600\n",
      "Epoch  8, CIFAR-10 Batch 1:  Loss:     1.6709 Validation accuracy: 0.374200\n",
      "Epoch  9, CIFAR-10 Batch 1:  Loss:     1.6249 Validation accuracy: 0.379800\n",
      "Epoch 10, CIFAR-10 Batch 1:  Loss:     1.5754 Validation accuracy: 0.385800\n",
      "Epoch 11, CIFAR-10 Batch 1:  Loss:     1.5513 Validation accuracy: 0.414400\n",
      "Epoch 12, CIFAR-10 Batch 1:  Loss:     1.5177 Validation accuracy: 0.413200\n",
      "Epoch 13, CIFAR-10 Batch 1:  Loss:     1.5108 Validation accuracy: 0.414600\n",
      "Epoch 14, CIFAR-10 Batch 1:  Loss:     1.5157 Validation accuracy: 0.414600\n",
      "Epoch 15, CIFAR-10 Batch 1:  Loss:     1.4445 Validation accuracy: 0.424600\n",
      "Epoch 16, CIFAR-10 Batch 1:  Loss:     1.4039 Validation accuracy: 0.410400\n",
      "Epoch 17, CIFAR-10 Batch 1:  Loss:     1.3820 Validation accuracy: 0.427200\n",
      "Epoch 18, CIFAR-10 Batch 1:  Loss:     1.3210 Validation accuracy: 0.414400\n",
      "Epoch 19, CIFAR-10 Batch 1:  Loss:     1.2963 Validation accuracy: 0.423800\n",
      "Epoch 20, CIFAR-10 Batch 1:  Loss:     1.3206 Validation accuracy: 0.439400\n",
      "Epoch 21, CIFAR-10 Batch 1:  Loss:     1.2889 Validation accuracy: 0.442200\n",
      "Epoch 22, CIFAR-10 Batch 1:  Loss:     1.2670 Validation accuracy: 0.423000\n",
      "Epoch 23, CIFAR-10 Batch 1:  Loss:     1.2127 Validation accuracy: 0.440600\n",
      "Epoch 24, CIFAR-10 Batch 1:  Loss:     1.2271 Validation accuracy: 0.441000\n",
      "Epoch 25, CIFAR-10 Batch 1:  Loss:     1.1933 Validation accuracy: 0.441600\n",
      "Epoch 26, CIFAR-10 Batch 1:  Loss:     1.1515 Validation accuracy: 0.427200\n",
      "Epoch 27, CIFAR-10 Batch 1:  Loss:     1.1120 Validation accuracy: 0.458400\n",
      "Epoch 28, CIFAR-10 Batch 1:  Loss:     1.0976 Validation accuracy: 0.450000\n",
      "Epoch 29, CIFAR-10 Batch 1:  Loss:     1.0546 Validation accuracy: 0.455000\n",
      "Epoch 30, CIFAR-10 Batch 1:  Loss:     1.0550 Validation accuracy: 0.467000\n"
     ]
    }
   ],
   "source": [
    "\"\"\"\n",
    "DON'T MODIFY ANYTHING IN THIS CELL\n",
    "\"\"\"\n",
    "print('Checking the Training on a Single Batch...')\n",
    "with tf.Session() as sess:\n",
    "    # Initializing the variables\n",
    "    sess.run(tf.global_variables_initializer())\n",
    "    \n",
    "    # Training cycle\n",
    "    for epoch in range(epochs):\n",
    "        batch_i = 1\n",
    "        for batch_features, batch_labels in helper.load_preprocess_training_batch(batch_i, batch_size):\n",
    "            train_neural_network(sess, optimizer, keep_probability, batch_features, batch_labels)\n",
    "        print('Epoch {:>2}, CIFAR-10 Batch {}:  '.format(epoch + 1, batch_i), end='')\n",
    "        print_stats(sess, batch_features, batch_labels, cost, accuracy)"
   ]
  },
  {
   "cell_type": "markdown",
   "metadata": {},
   "source": [
    "### Fully Train the Model\n",
    "Now that you got a good accuracy with a single CIFAR-10 batch, try it with all five batches."
   ]
  },
  {
   "cell_type": "code",
   "execution_count": 74,
   "metadata": {},
   "outputs": [
    {
     "name": "stdout",
     "output_type": "stream",
     "text": [
      "Training...\n",
      "Epoch  1, CIFAR-10 Batch 1:  Loss:     2.2435 Validation Accuracy: 0.224800\n",
      "Epoch  1, CIFAR-10 Batch 2:  Loss:     1.9049 Validation Accuracy: 0.320000\n",
      "Epoch  1, CIFAR-10 Batch 3:  Loss:     1.7816 Validation Accuracy: 0.289000\n",
      "Epoch  1, CIFAR-10 Batch 4:  Loss:     1.8059 Validation Accuracy: 0.352400\n",
      "Epoch  1, CIFAR-10 Batch 5:  Loss:     1.7444 Validation Accuracy: 0.328200\n",
      "Epoch  2, CIFAR-10 Batch 1:  Loss:     2.0281 Validation Accuracy: 0.343400\n",
      "Epoch  2, CIFAR-10 Batch 2:  Loss:     1.8342 Validation Accuracy: 0.377800\n",
      "Epoch  2, CIFAR-10 Batch 3:  Loss:     1.6575 Validation Accuracy: 0.343600\n",
      "Epoch  2, CIFAR-10 Batch 4:  Loss:     1.6536 Validation Accuracy: 0.389600\n",
      "Epoch  2, CIFAR-10 Batch 5:  Loss:     1.6585 Validation Accuracy: 0.380400\n",
      "Epoch  3, CIFAR-10 Batch 1:  Loss:     1.8181 Validation Accuracy: 0.376200\n",
      "Epoch  3, CIFAR-10 Batch 2:  Loss:     1.7418 Validation Accuracy: 0.408000\n",
      "Epoch  3, CIFAR-10 Batch 3:  Loss:     1.5085 Validation Accuracy: 0.412600\n",
      "Epoch  3, CIFAR-10 Batch 4:  Loss:     1.5742 Validation Accuracy: 0.417400\n",
      "Epoch  3, CIFAR-10 Batch 5:  Loss:     1.5893 Validation Accuracy: 0.418800\n",
      "Epoch  4, CIFAR-10 Batch 1:  Loss:     1.7176 Validation Accuracy: 0.436600\n",
      "Epoch  4, CIFAR-10 Batch 2:  Loss:     1.6719 Validation Accuracy: 0.447200\n",
      "Epoch  4, CIFAR-10 Batch 3:  Loss:     1.4217 Validation Accuracy: 0.440600\n",
      "Epoch  4, CIFAR-10 Batch 4:  Loss:     1.5000 Validation Accuracy: 0.450000\n",
      "Epoch  4, CIFAR-10 Batch 5:  Loss:     1.4797 Validation Accuracy: 0.461400\n",
      "Epoch  5, CIFAR-10 Batch 1:  Loss:     1.5985 Validation Accuracy: 0.449200\n",
      "Epoch  5, CIFAR-10 Batch 2:  Loss:     1.6109 Validation Accuracy: 0.462400\n",
      "Epoch  5, CIFAR-10 Batch 3:  Loss:     1.3187 Validation Accuracy: 0.451600\n",
      "Epoch  5, CIFAR-10 Batch 4:  Loss:     1.4458 Validation Accuracy: 0.466600\n",
      "Epoch  5, CIFAR-10 Batch 5:  Loss:     1.4670 Validation Accuracy: 0.445000\n",
      "Epoch  6, CIFAR-10 Batch 1:  Loss:     1.5213 Validation Accuracy: 0.476800\n",
      "Epoch  6, CIFAR-10 Batch 2:  Loss:     1.5706 Validation Accuracy: 0.484000\n",
      "Epoch  6, CIFAR-10 Batch 3:  Loss:     1.3184 Validation Accuracy: 0.450200\n",
      "Epoch  6, CIFAR-10 Batch 4:  Loss:     1.4283 Validation Accuracy: 0.481200\n",
      "Epoch  6, CIFAR-10 Batch 5:  Loss:     1.3830 Validation Accuracy: 0.477200\n",
      "Epoch  7, CIFAR-10 Batch 1:  Loss:     1.5617 Validation Accuracy: 0.466400\n",
      "Epoch  7, CIFAR-10 Batch 2:  Loss:     1.4915 Validation Accuracy: 0.489200\n",
      "Epoch  7, CIFAR-10 Batch 3:  Loss:     1.2864 Validation Accuracy: 0.473800\n",
      "Epoch  7, CIFAR-10 Batch 4:  Loss:     1.4042 Validation Accuracy: 0.503600\n",
      "Epoch  7, CIFAR-10 Batch 5:  Loss:     1.3342 Validation Accuracy: 0.490200\n",
      "Epoch  8, CIFAR-10 Batch 1:  Loss:     1.3719 Validation Accuracy: 0.487000\n",
      "Epoch  8, CIFAR-10 Batch 2:  Loss:     1.4539 Validation Accuracy: 0.499000\n",
      "Epoch  8, CIFAR-10 Batch 3:  Loss:     1.2099 Validation Accuracy: 0.494200\n",
      "Epoch  8, CIFAR-10 Batch 4:  Loss:     1.3860 Validation Accuracy: 0.501800\n",
      "Epoch  8, CIFAR-10 Batch 5:  Loss:     1.3548 Validation Accuracy: 0.485400\n",
      "Epoch  9, CIFAR-10 Batch 1:  Loss:     1.3981 Validation Accuracy: 0.493800\n",
      "Epoch  9, CIFAR-10 Batch 2:  Loss:     1.3369 Validation Accuracy: 0.519800\n",
      "Epoch  9, CIFAR-10 Batch 3:  Loss:     1.1140 Validation Accuracy: 0.516800\n",
      "Epoch  9, CIFAR-10 Batch 4:  Loss:     1.2638 Validation Accuracy: 0.528800\n",
      "Epoch  9, CIFAR-10 Batch 5:  Loss:     1.1402 Validation Accuracy: 0.530800\n",
      "Epoch 10, CIFAR-10 Batch 1:  Loss:     1.2182 Validation Accuracy: 0.529800\n",
      "Epoch 10, CIFAR-10 Batch 2:  Loss:     1.3319 Validation Accuracy: 0.535200\n",
      "Epoch 10, CIFAR-10 Batch 3:  Loss:     1.0734 Validation Accuracy: 0.527600\n",
      "Epoch 10, CIFAR-10 Batch 4:  Loss:     1.1969 Validation Accuracy: 0.555000\n",
      "Epoch 10, CIFAR-10 Batch 5:  Loss:     1.1111 Validation Accuracy: 0.547600\n",
      "Epoch 11, CIFAR-10 Batch 1:  Loss:     1.0827 Validation Accuracy: 0.547600\n",
      "Epoch 11, CIFAR-10 Batch 2:  Loss:     1.1542 Validation Accuracy: 0.561800\n",
      "Epoch 11, CIFAR-10 Batch 3:  Loss:     1.0377 Validation Accuracy: 0.527200\n",
      "Epoch 11, CIFAR-10 Batch 4:  Loss:     1.1082 Validation Accuracy: 0.565200\n",
      "Epoch 11, CIFAR-10 Batch 5:  Loss:     1.0720 Validation Accuracy: 0.558600\n",
      "Epoch 12, CIFAR-10 Batch 1:  Loss:     1.0370 Validation Accuracy: 0.543600\n",
      "Epoch 12, CIFAR-10 Batch 2:  Loss:     1.0532 Validation Accuracy: 0.572600\n",
      "Epoch 12, CIFAR-10 Batch 3:  Loss:     0.9524 Validation Accuracy: 0.549600\n",
      "Epoch 12, CIFAR-10 Batch 4:  Loss:     1.1493 Validation Accuracy: 0.565200\n",
      "Epoch 12, CIFAR-10 Batch 5:  Loss:     0.9727 Validation Accuracy: 0.568800\n",
      "Epoch 13, CIFAR-10 Batch 1:  Loss:     0.9357 Validation Accuracy: 0.571200\n",
      "Epoch 13, CIFAR-10 Batch 2:  Loss:     1.0403 Validation Accuracy: 0.555000\n",
      "Epoch 13, CIFAR-10 Batch 3:  Loss:     0.9035 Validation Accuracy: 0.579200\n",
      "Epoch 13, CIFAR-10 Batch 4:  Loss:     1.1231 Validation Accuracy: 0.580000\n",
      "Epoch 13, CIFAR-10 Batch 5:  Loss:     0.9648 Validation Accuracy: 0.568000\n",
      "Epoch 14, CIFAR-10 Batch 1:  Loss:     0.8961 Validation Accuracy: 0.583400\n",
      "Epoch 14, CIFAR-10 Batch 2:  Loss:     0.9081 Validation Accuracy: 0.585000\n",
      "Epoch 14, CIFAR-10 Batch 3:  Loss:     0.8466 Validation Accuracy: 0.586000\n",
      "Epoch 14, CIFAR-10 Batch 4:  Loss:     1.0512 Validation Accuracy: 0.574400\n",
      "Epoch 14, CIFAR-10 Batch 5:  Loss:     0.9573 Validation Accuracy: 0.574600\n",
      "Epoch 15, CIFAR-10 Batch 1:  Loss:     0.8815 Validation Accuracy: 0.588000\n",
      "Epoch 15, CIFAR-10 Batch 2:  Loss:     0.9506 Validation Accuracy: 0.590800\n",
      "Epoch 15, CIFAR-10 Batch 3:  Loss:     0.8270 Validation Accuracy: 0.586600\n",
      "Epoch 15, CIFAR-10 Batch 4:  Loss:     0.9841 Validation Accuracy: 0.582200\n",
      "Epoch 15, CIFAR-10 Batch 5:  Loss:     0.9406 Validation Accuracy: 0.582000\n",
      "Epoch 16, CIFAR-10 Batch 1:  Loss:     0.8154 Validation Accuracy: 0.598600\n",
      "Epoch 16, CIFAR-10 Batch 2:  Loss:     0.8335 Validation Accuracy: 0.599000\n",
      "Epoch 16, CIFAR-10 Batch 3:  Loss:     0.8029 Validation Accuracy: 0.593000\n",
      "Epoch 16, CIFAR-10 Batch 4:  Loss:     0.9250 Validation Accuracy: 0.598000\n",
      "Epoch 16, CIFAR-10 Batch 5:  Loss:     0.9104 Validation Accuracy: 0.571800\n",
      "Epoch 17, CIFAR-10 Batch 1:  Loss:     0.8176 Validation Accuracy: 0.601600\n",
      "Epoch 17, CIFAR-10 Batch 2:  Loss:     0.8482 Validation Accuracy: 0.596600\n",
      "Epoch 17, CIFAR-10 Batch 3:  Loss:     0.7798 Validation Accuracy: 0.603400\n",
      "Epoch 17, CIFAR-10 Batch 4:  Loss:     0.8615 Validation Accuracy: 0.601800\n",
      "Epoch 17, CIFAR-10 Batch 5:  Loss:     0.9258 Validation Accuracy: 0.582800\n",
      "Epoch 18, CIFAR-10 Batch 1:  Loss:     0.7885 Validation Accuracy: 0.607600\n",
      "Epoch 18, CIFAR-10 Batch 2:  Loss:     0.8082 Validation Accuracy: 0.598400\n",
      "Epoch 18, CIFAR-10 Batch 3:  Loss:     0.7382 Validation Accuracy: 0.608200\n",
      "Epoch 18, CIFAR-10 Batch 4:  Loss:     0.8173 Validation Accuracy: 0.610400\n",
      "Epoch 18, CIFAR-10 Batch 5:  Loss:     0.8469 Validation Accuracy: 0.606400\n",
      "Epoch 19, CIFAR-10 Batch 1:  Loss:     0.8056 Validation Accuracy: 0.587200\n",
      "Epoch 19, CIFAR-10 Batch 2:  Loss:     0.7689 Validation Accuracy: 0.604200\n",
      "Epoch 19, CIFAR-10 Batch 3:  Loss:     0.7017 Validation Accuracy: 0.601600\n",
      "Epoch 19, CIFAR-10 Batch 4:  Loss:     0.7952 Validation Accuracy: 0.602000\n",
      "Epoch 19, CIFAR-10 Batch 5:  Loss:     0.8403 Validation Accuracy: 0.602000\n",
      "Epoch 20, CIFAR-10 Batch 1:  Loss:     0.7639 Validation Accuracy: 0.602600\n",
      "Epoch 20, CIFAR-10 Batch 2:  Loss:     0.7341 Validation Accuracy: 0.608400\n",
      "Epoch 20, CIFAR-10 Batch 3:  Loss:     0.6689 Validation Accuracy: 0.620600\n",
      "Epoch 20, CIFAR-10 Batch 4:  Loss:     0.7644 Validation Accuracy: 0.611000\n",
      "Epoch 20, CIFAR-10 Batch 5:  Loss:     0.7599 Validation Accuracy: 0.603800\n",
      "Epoch 21, CIFAR-10 Batch 1:  Loss:     0.7054 Validation Accuracy: 0.598200\n",
      "Epoch 21, CIFAR-10 Batch 2:  Loss:     0.7051 Validation Accuracy: 0.595200\n",
      "Epoch 21, CIFAR-10 Batch 3:  Loss:     0.6991 Validation Accuracy: 0.596600\n",
      "Epoch 21, CIFAR-10 Batch 4:  Loss:     0.7210 Validation Accuracy: 0.613200\n",
      "Epoch 21, CIFAR-10 Batch 5:  Loss:     0.8382 Validation Accuracy: 0.606200\n",
      "Epoch 22, CIFAR-10 Batch 1:  Loss:     0.7152 Validation Accuracy: 0.605000\n",
      "Epoch 22, CIFAR-10 Batch 2:  Loss:     0.6662 Validation Accuracy: 0.617000\n",
      "Epoch 22, CIFAR-10 Batch 3:  Loss:     0.6829 Validation Accuracy: 0.603000\n",
      "Epoch 22, CIFAR-10 Batch 4:  Loss:     0.7173 Validation Accuracy: 0.614000\n",
      "Epoch 22, CIFAR-10 Batch 5:  Loss:     0.7818 Validation Accuracy: 0.613600\n",
      "Epoch 23, CIFAR-10 Batch 1:  Loss:     0.7088 Validation Accuracy: 0.599400\n",
      "Epoch 23, CIFAR-10 Batch 2:  Loss:     0.6917 Validation Accuracy: 0.606000\n",
      "Epoch 23, CIFAR-10 Batch 3:  Loss:     0.6646 Validation Accuracy: 0.611800\n",
      "Epoch 23, CIFAR-10 Batch 4:  Loss:     0.6867 Validation Accuracy: 0.596200\n",
      "Epoch 23, CIFAR-10 Batch 5:  Loss:     0.7012 Validation Accuracy: 0.614400\n",
      "Epoch 24, CIFAR-10 Batch 1:  Loss:     0.6678 Validation Accuracy: 0.609800\n",
      "Epoch 24, CIFAR-10 Batch 2:  Loss:     0.6345 Validation Accuracy: 0.608600\n",
      "Epoch 24, CIFAR-10 Batch 3:  Loss:     0.6004 Validation Accuracy: 0.610600\n",
      "Epoch 24, CIFAR-10 Batch 4:  Loss:     0.6906 Validation Accuracy: 0.616400\n",
      "Epoch 24, CIFAR-10 Batch 5:  Loss:     0.7202 Validation Accuracy: 0.611600\n",
      "Epoch 25, CIFAR-10 Batch 1:  Loss:     0.6412 Validation Accuracy: 0.613000\n",
      "Epoch 25, CIFAR-10 Batch 2:  Loss:     0.6063 Validation Accuracy: 0.603000\n",
      "Epoch 25, CIFAR-10 Batch 3:  Loss:     0.6141 Validation Accuracy: 0.611400\n",
      "Epoch 25, CIFAR-10 Batch 4:  Loss:     0.6317 Validation Accuracy: 0.616000\n",
      "Epoch 25, CIFAR-10 Batch 5:  Loss:     0.6742 Validation Accuracy: 0.614600\n",
      "Epoch 26, CIFAR-10 Batch 1:  Loss:     0.6120 Validation Accuracy: 0.607800\n",
      "Epoch 26, CIFAR-10 Batch 2:  Loss:     0.6301 Validation Accuracy: 0.597000\n",
      "Epoch 26, CIFAR-10 Batch 3:  Loss:     0.5868 Validation Accuracy: 0.610400\n",
      "Epoch 26, CIFAR-10 Batch 4:  Loss:     0.7004 Validation Accuracy: 0.596000\n",
      "Epoch 26, CIFAR-10 Batch 5:  Loss:     0.6617 Validation Accuracy: 0.621400\n",
      "Epoch 27, CIFAR-10 Batch 1:  Loss:     0.6300 Validation Accuracy: 0.607800\n",
      "Epoch 27, CIFAR-10 Batch 2:  Loss:     0.5731 Validation Accuracy: 0.608200\n",
      "Epoch 27, CIFAR-10 Batch 3:  Loss:     0.6048 Validation Accuracy: 0.610400\n",
      "Epoch 27, CIFAR-10 Batch 4:  Loss:     0.6480 Validation Accuracy: 0.614800\n",
      "Epoch 27, CIFAR-10 Batch 5:  Loss:     0.6488 Validation Accuracy: 0.620800\n",
      "Epoch 28, CIFAR-10 Batch 1:  Loss:     0.5568 Validation Accuracy: 0.605800\n",
      "Epoch 28, CIFAR-10 Batch 2:  Loss:     0.6155 Validation Accuracy: 0.613000\n",
      "Epoch 28, CIFAR-10 Batch 3:  Loss:     0.6036 Validation Accuracy: 0.605800\n",
      "Epoch 28, CIFAR-10 Batch 4:  Loss:     0.6144 Validation Accuracy: 0.590600\n",
      "Epoch 28, CIFAR-10 Batch 5:  Loss:     0.6596 Validation Accuracy: 0.612800\n",
      "Epoch 29, CIFAR-10 Batch 1:  Loss:     0.5721 Validation Accuracy: 0.614600\n",
      "Epoch 29, CIFAR-10 Batch 2:  Loss:     0.6087 Validation Accuracy: 0.624200\n",
      "Epoch 29, CIFAR-10 Batch 3:  Loss:     0.5917 Validation Accuracy: 0.607800\n",
      "Epoch 29, CIFAR-10 Batch 4:  Loss:     0.6393 Validation Accuracy: 0.599200\n",
      "Epoch 29, CIFAR-10 Batch 5:  Loss:     0.6907 Validation Accuracy: 0.618800\n",
      "Epoch 30, CIFAR-10 Batch 1:  Loss:     0.5770 Validation Accuracy: 0.610200\n",
      "Epoch 30, CIFAR-10 Batch 2:  Loss:     0.5856 Validation Accuracy: 0.619200\n",
      "Epoch 30, CIFAR-10 Batch 3:  Loss:     0.5387 Validation Accuracy: 0.618000\n",
      "Epoch 30, CIFAR-10 Batch 4:  Loss:     0.6321 Validation Accuracy: 0.610600\n",
      "Epoch 30, CIFAR-10 Batch 5:  Loss:     0.6374 Validation Accuracy: 0.621000\n",
      "Epoch 31, CIFAR-10 Batch 1:  Loss:     0.6225 Validation Accuracy: 0.610800\n",
      "Epoch 31, CIFAR-10 Batch 2:  Loss:     0.5741 Validation Accuracy: 0.617200\n",
      "Epoch 31, CIFAR-10 Batch 3:  Loss:     0.5211 Validation Accuracy: 0.611000\n",
      "Epoch 31, CIFAR-10 Batch 4:  Loss:     0.6185 Validation Accuracy: 0.611600\n",
      "Epoch 31, CIFAR-10 Batch 5:  Loss:     0.5685 Validation Accuracy: 0.621600\n",
      "Epoch 32, CIFAR-10 Batch 1:  Loss:     0.5798 Validation Accuracy: 0.621600\n",
      "Epoch 32, CIFAR-10 Batch 2:  Loss:     0.5886 Validation Accuracy: 0.632000\n",
      "Epoch 32, CIFAR-10 Batch 3:  Loss:     0.4905 Validation Accuracy: 0.612200\n",
      "Epoch 32, CIFAR-10 Batch 4:  Loss:     0.5598 Validation Accuracy: 0.622200\n",
      "Epoch 32, CIFAR-10 Batch 5:  Loss:     0.6069 Validation Accuracy: 0.619200\n",
      "Epoch 33, CIFAR-10 Batch 1:  Loss:     0.5776 Validation Accuracy: 0.619600\n",
      "Epoch 33, CIFAR-10 Batch 2:  Loss:     0.5288 Validation Accuracy: 0.625200\n",
      "Epoch 33, CIFAR-10 Batch 3:  Loss:     0.4906 Validation Accuracy: 0.611800\n",
      "Epoch 33, CIFAR-10 Batch 4:  Loss:     0.5919 Validation Accuracy: 0.612400\n",
      "Epoch 33, CIFAR-10 Batch 5:  Loss:     0.6139 Validation Accuracy: 0.619000\n",
      "Epoch 34, CIFAR-10 Batch 1:  Loss:     0.5668 Validation Accuracy: 0.617000\n",
      "Epoch 34, CIFAR-10 Batch 2:  Loss:     0.5731 Validation Accuracy: 0.627000\n",
      "Epoch 34, CIFAR-10 Batch 3:  Loss:     0.4737 Validation Accuracy: 0.625000\n",
      "Epoch 34, CIFAR-10 Batch 4:  Loss:     0.6025 Validation Accuracy: 0.623000\n",
      "Epoch 34, CIFAR-10 Batch 5:  Loss:     0.5524 Validation Accuracy: 0.632800\n",
      "Epoch 35, CIFAR-10 Batch 1:  Loss:     0.5482 Validation Accuracy: 0.617600\n",
      "Epoch 35, CIFAR-10 Batch 2:  Loss:     0.5446 Validation Accuracy: 0.631800\n",
      "Epoch 35, CIFAR-10 Batch 3:  Loss:     0.5092 Validation Accuracy: 0.623600\n",
      "Epoch 35, CIFAR-10 Batch 4:  Loss:     0.5998 Validation Accuracy: 0.619400\n",
      "Epoch 35, CIFAR-10 Batch 5:  Loss:     0.5522 Validation Accuracy: 0.636200\n",
      "Epoch 36, CIFAR-10 Batch 1:  Loss:     0.5107 Validation Accuracy: 0.622400\n",
      "Epoch 36, CIFAR-10 Batch 2:  Loss:     0.5673 Validation Accuracy: 0.625800\n",
      "Epoch 36, CIFAR-10 Batch 3:  Loss:     0.4582 Validation Accuracy: 0.613400\n",
      "Epoch 36, CIFAR-10 Batch 4:  Loss:     0.5596 Validation Accuracy: 0.626000\n",
      "Epoch 36, CIFAR-10 Batch 5:  Loss:     0.5351 Validation Accuracy: 0.635600\n",
      "Epoch 37, CIFAR-10 Batch 1:  Loss:     0.4756 Validation Accuracy: 0.614000\n",
      "Epoch 37, CIFAR-10 Batch 2:  Loss:     0.5229 Validation Accuracy: 0.634200\n",
      "Epoch 37, CIFAR-10 Batch 3:  Loss:     0.4744 Validation Accuracy: 0.615000\n",
      "Epoch 37, CIFAR-10 Batch 4:  Loss:     0.5492 Validation Accuracy: 0.617800\n",
      "Epoch 37, CIFAR-10 Batch 5:  Loss:     0.5885 Validation Accuracy: 0.632600\n",
      "Epoch 38, CIFAR-10 Batch 1:  Loss:     0.4834 Validation Accuracy: 0.618200\n",
      "Epoch 38, CIFAR-10 Batch 2:  Loss:     0.5325 Validation Accuracy: 0.637200\n",
      "Epoch 38, CIFAR-10 Batch 3:  Loss:     0.4908 Validation Accuracy: 0.604200\n",
      "Epoch 38, CIFAR-10 Batch 4:  Loss:     0.5328 Validation Accuracy: 0.625400\n",
      "Epoch 38, CIFAR-10 Batch 5:  Loss:     0.5098 Validation Accuracy: 0.635800\n",
      "Epoch 39, CIFAR-10 Batch 1:  Loss:     0.4955 Validation Accuracy: 0.615000\n",
      "Epoch 39, CIFAR-10 Batch 2:  Loss:     0.5180 Validation Accuracy: 0.633400\n",
      "Epoch 39, CIFAR-10 Batch 3:  Loss:     0.4246 Validation Accuracy: 0.624000\n",
      "Epoch 39, CIFAR-10 Batch 4:  Loss:     0.5111 Validation Accuracy: 0.616800\n",
      "Epoch 39, CIFAR-10 Batch 5:  Loss:     0.5283 Validation Accuracy: 0.634600\n",
      "Epoch 40, CIFAR-10 Batch 1:  Loss:     0.5055 Validation Accuracy: 0.614200\n",
      "Epoch 40, CIFAR-10 Batch 2:  Loss:     0.4753 Validation Accuracy: 0.639400\n",
      "Epoch 40, CIFAR-10 Batch 3:  Loss:     0.3831 Validation Accuracy: 0.617600\n",
      "Epoch 40, CIFAR-10 Batch 4:  Loss:     0.4864 Validation Accuracy: 0.614200\n",
      "Epoch 40, CIFAR-10 Batch 5:  Loss:     0.4905 Validation Accuracy: 0.638600\n",
      "Epoch 41, CIFAR-10 Batch 1:  Loss:     0.4873 Validation Accuracy: 0.624800\n",
      "Epoch 41, CIFAR-10 Batch 2:  Loss:     0.4690 Validation Accuracy: 0.636600\n",
      "Epoch 41, CIFAR-10 Batch 3:  Loss:     0.4524 Validation Accuracy: 0.624600\n",
      "Epoch 41, CIFAR-10 Batch 4:  Loss:     0.5086 Validation Accuracy: 0.621400\n",
      "Epoch 41, CIFAR-10 Batch 5:  Loss:     0.5034 Validation Accuracy: 0.637400\n",
      "Epoch 42, CIFAR-10 Batch 1:  Loss:     0.4817 Validation Accuracy: 0.617200\n",
      "Epoch 42, CIFAR-10 Batch 2:  Loss:     0.4598 Validation Accuracy: 0.633200\n",
      "Epoch 42, CIFAR-10 Batch 3:  Loss:     0.4092 Validation Accuracy: 0.627000\n",
      "Epoch 42, CIFAR-10 Batch 4:  Loss:     0.4806 Validation Accuracy: 0.620600\n",
      "Epoch 42, CIFAR-10 Batch 5:  Loss:     0.4851 Validation Accuracy: 0.638600\n",
      "Epoch 43, CIFAR-10 Batch 1:  Loss:     0.4569 Validation Accuracy: 0.628400\n",
      "Epoch 43, CIFAR-10 Batch 2:  Loss:     0.4364 Validation Accuracy: 0.633000\n",
      "Epoch 43, CIFAR-10 Batch 3:  Loss:     0.3677 Validation Accuracy: 0.627200\n",
      "Epoch 43, CIFAR-10 Batch 4:  Loss:     0.4864 Validation Accuracy: 0.631000\n",
      "Epoch 43, CIFAR-10 Batch 5:  Loss:     0.4890 Validation Accuracy: 0.641200\n",
      "Epoch 44, CIFAR-10 Batch 1:  Loss:     0.4697 Validation Accuracy: 0.623000\n",
      "Epoch 44, CIFAR-10 Batch 2:  Loss:     0.4586 Validation Accuracy: 0.634400\n",
      "Epoch 44, CIFAR-10 Batch 3:  Loss:     0.4351 Validation Accuracy: 0.627400\n",
      "Epoch 44, CIFAR-10 Batch 4:  Loss:     0.4816 Validation Accuracy: 0.627600\n",
      "Epoch 44, CIFAR-10 Batch 5:  Loss:     0.5001 Validation Accuracy: 0.630000\n",
      "Epoch 45, CIFAR-10 Batch 1:  Loss:     0.5071 Validation Accuracy: 0.615600\n",
      "Epoch 45, CIFAR-10 Batch 2:  Loss:     0.4771 Validation Accuracy: 0.640000\n",
      "Epoch 45, CIFAR-10 Batch 3:  Loss:     0.3900 Validation Accuracy: 0.633200\n",
      "Epoch 45, CIFAR-10 Batch 4:  Loss:     0.4711 Validation Accuracy: 0.632600\n",
      "Epoch 45, CIFAR-10 Batch 5:  Loss:     0.4796 Validation Accuracy: 0.629600\n",
      "Epoch 46, CIFAR-10 Batch 1:  Loss:     0.4499 Validation Accuracy: 0.638200\n",
      "Epoch 46, CIFAR-10 Batch 2:  Loss:     0.4563 Validation Accuracy: 0.631000\n",
      "Epoch 46, CIFAR-10 Batch 3:  Loss:     0.3900 Validation Accuracy: 0.630000\n",
      "Epoch 46, CIFAR-10 Batch 4:  Loss:     0.4961 Validation Accuracy: 0.633600\n",
      "Epoch 46, CIFAR-10 Batch 5:  Loss:     0.4871 Validation Accuracy: 0.622200\n",
      "Epoch 47, CIFAR-10 Batch 1:  Loss:     0.4362 Validation Accuracy: 0.632200\n",
      "Epoch 47, CIFAR-10 Batch 2:  Loss:     0.4474 Validation Accuracy: 0.618000\n",
      "Epoch 47, CIFAR-10 Batch 3:  Loss:     0.3862 Validation Accuracy: 0.626000\n",
      "Epoch 47, CIFAR-10 Batch 4:  Loss:     0.4893 Validation Accuracy: 0.632600\n",
      "Epoch 47, CIFAR-10 Batch 5:  Loss:     0.4998 Validation Accuracy: 0.624000\n",
      "Epoch 48, CIFAR-10 Batch 1:  Loss:     0.4418 Validation Accuracy: 0.628600\n",
      "Epoch 48, CIFAR-10 Batch 2:  Loss:     0.4520 Validation Accuracy: 0.631000\n",
      "Epoch 48, CIFAR-10 Batch 3:  Loss:     0.3781 Validation Accuracy: 0.627600\n",
      "Epoch 48, CIFAR-10 Batch 4:  Loss:     0.4396 Validation Accuracy: 0.631800\n",
      "Epoch 48, CIFAR-10 Batch 5:  Loss:     0.4724 Validation Accuracy: 0.632400\n",
      "Epoch 49, CIFAR-10 Batch 1:  Loss:     0.4259 Validation Accuracy: 0.628000\n",
      "Epoch 49, CIFAR-10 Batch 2:  Loss:     0.4297 Validation Accuracy: 0.612600\n",
      "Epoch 49, CIFAR-10 Batch 3:  Loss:     0.3557 Validation Accuracy: 0.630800\n",
      "Epoch 49, CIFAR-10 Batch 4:  Loss:     0.4632 Validation Accuracy: 0.628200\n",
      "Epoch 49, CIFAR-10 Batch 5:  Loss:     0.4476 Validation Accuracy: 0.634800\n",
      "Epoch 50, CIFAR-10 Batch 1:  Loss:     0.4188 Validation Accuracy: 0.628200\n",
      "Epoch 50, CIFAR-10 Batch 2:  Loss:     0.3915 Validation Accuracy: 0.619600\n",
      "Epoch 50, CIFAR-10 Batch 3:  Loss:     0.3366 Validation Accuracy: 0.625800\n",
      "Epoch 50, CIFAR-10 Batch 4:  Loss:     0.4829 Validation Accuracy: 0.628200\n",
      "Epoch 50, CIFAR-10 Batch 5:  Loss:     0.4305 Validation Accuracy: 0.636000\n"
     ]
    }
   ],
   "source": [
    "\"\"\"\n",
    "DON'T MODIFY ANYTHING IN THIS CELL\n",
    "\"\"\"\n",
    "save_model_path = './image_classification'\n",
    "\n",
    "print('Training...')\n",
    "with tf.Session() as sess:\n",
    "    # Initializing the variables\n",
    "    sess.run(tf.global_variables_initializer())\n",
    "    \n",
    "    # Training cycle\n",
    "    for epoch in range(epochs):\n",
    "        # Loop over all batches\n",
    "        n_batches = 5\n",
    "        for batch_i in range(1, n_batches + 1):\n",
    "            for batch_features, batch_labels in helper.load_preprocess_training_batch(batch_i, batch_size):\n",
    "                train_neural_network(sess, optimizer, keep_probability, batch_features, batch_labels)\n",
    "            print('Epoch {:>2}, CIFAR-10 Batch {}:  '.format(epoch + 1, batch_i), end='')\n",
    "            print_stats(sess, batch_features, batch_labels, cost, accuracy)\n",
    "            \n",
    "    # Save Model\n",
    "    saver = tf.train.Saver()\n",
    "    save_path = saver.save(sess, save_model_path)"
   ]
  },
  {
   "cell_type": "markdown",
   "metadata": {},
   "source": [
    "# Checkpoint\n",
    "The model has been saved to disk.\n",
    "## Test Model\n",
    "Test your model against the test dataset.  This will be your final accuracy. You should have an accuracy greater than 50%. If you don't, keep tweaking the model architecture and parameters."
   ]
  },
  {
   "cell_type": "code",
   "execution_count": 75,
   "metadata": {},
   "outputs": [
    {
     "name": "stdout",
     "output_type": "stream",
     "text": [
      "Testing Accuracy: 0.627373417721519\n",
      "\n"
     ]
    },
    {
     "data": {
      "image/png": "[encoded data removed]",
      "text/plain": [
       "<matplotlib.figure.Figure at 0x229010581d0>"
      ]
     },
     "metadata": {
      "image/png": {
       "height": 319,
       "width": 355
      }
     },
     "output_type": "display_data"
    }
   ],
   "source": [
    "\"\"\"\n",
    "DON'T MODIFY ANYTHING IN THIS CELL\n",
    "\"\"\"\n",
    "%matplotlib inline\n",
    "%config InlineBackend.figure_format = 'retina'\n",
    "\n",
    "import tensorflow as tf\n",
    "import pickle\n",
    "import helper\n",
    "import random\n",
    "\n",
    "# Set batch size if not already set\n",
    "try:\n",
    "    if batch_size:\n",
    "        pass\n",
    "except NameError:\n",
    "    batch_size = 64\n",
    "\n",
    "save_model_path = './image_classification'\n",
    "n_samples = 4\n",
    "top_n_predictions = 3\n",
    "\n",
    "def test_model():\n",
    "    \"\"\"\n",
    "    Test the saved model against the test dataset\n",
    "    \"\"\"\n",
    "\n",
    "    test_features, test_labels = pickle.load(open('preprocess_training.p', mode='rb'))\n",
    "    loaded_graph = tf.Graph()\n",
    "\n",
    "    with tf.Session(graph=loaded_graph) as sess:\n",
    "        # Load model\n",
    "        loader = tf.train.import_meta_graph(save_model_path + '.meta')\n",
    "        loader.restore(sess, save_model_path)\n",
    "\n",
    "        # Get Tensors from loaded model\n",
    "        loaded_x = loaded_graph.get_tensor_by_name('x:0')\n",
    "        loaded_y = loaded_graph.get_tensor_by_name('y:0')\n",
    "        loaded_keep_prob = loaded_graph.get_tensor_by_name('keep_prob:0')\n",
    "        loaded_logits = loaded_graph.get_tensor_by_name('logits:0')\n",
    "        loaded_acc = loaded_graph.get_tensor_by_name('accuracy:0')\n",
    "        \n",
    "        # Get accuracy in batches for memory limitations\n",
    "        test_batch_acc_total = 0\n",
    "        test_batch_count = 0\n",
    "        \n",
    "        for train_feature_batch, train_label_batch in helper.batch_features_labels(test_features, test_labels, batch_size):\n",
    "            test_batch_acc_total += sess.run(\n",
    "                loaded_acc,\n",
    "                feed_dict={loaded_x: train_feature_batch, loaded_y: train_label_batch, loaded_keep_prob: 1.0})\n",
    "            test_batch_count += 1\n",
    "\n",
    "        print('Testing Accuracy: {}\\n'.format(test_batch_acc_total/test_batch_count))\n",
    "\n",
    "        # Print Random Samples\n",
    "        random_test_features, random_test_labels = tuple(zip(*random.sample(list(zip(test_features, test_labels)), n_samples)))\n",
    "        random_test_predictions = sess.run(\n",
    "            tf.nn.top_k(tf.nn.softmax(loaded_logits), top_n_predictions),\n",
    "            feed_dict={loaded_x: random_test_features, loaded_y: random_test_labels, loaded_keep_prob: 1.0})\n",
    "        helper.display_image_predictions(random_test_features, random_test_labels, random_test_predictions)\n",
    "\n",
    "\n",
    "test_model()"
   ]
  },
  {
   "cell_type": "markdown",
   "metadata": {},
   "source": [
    "## Why 50-70% Accuracy?\n",
    "You might be wondering why you can't get an accuracy any higher. First things first, 50% isn't bad for a simple CNN.  Pure guessing would get you 10% accuracy. However, you might notice people are getting scores [well above 70%](http://rodrigob.github.io/are_we_there_yet/build/classification_datasets_results.html#43494641522d3130).  That's because we haven't taught you all there is to know about neural networks. We still need to cover a few more techniques.\n",
    "## Submitting This Project\n",
    "When submitting this project, make sure to run all the cells before saving the notebook.  Save the notebook file as \"dlnd_image_classification.ipynb\" and save it as a HTML file under \"File\" -> \"Download as\".  Include the \"helper.py\" and \"problem_unittests.py\" files in your submission."
   ]
  },
  {
   "cell_type": "code",
   "execution_count": null,
   "metadata": {
    "collapsed": true
   },
   "outputs": [],
   "source": []
  }
 ],
 "metadata": {
  "anaconda-cloud": {},
  "kernelspec": {
   "display_name": "Python 3",
   "language": "python",
   "name": "python3"
  },
  "language_info": {
   "codemirror_mode": {
    "name": "ipython",
    "version": 3
   },
   "file_extension": ".py",
   "mimetype": "text/x-python",
   "name": "python",
   "nbconvert_exporter": "python",
   "pygments_lexer": "ipython3",
   "version": "3.5.3"
  }
 },
 "nbformat": 4,
 "nbformat_minor": 1
}
